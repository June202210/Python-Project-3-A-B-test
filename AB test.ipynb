{
 "cells": [
  {
   "cell_type": "markdown",
   "id": "a9fe2c0b",
   "metadata": {},
   "source": [
    "# A/B testing \n",
    "In this notebook, we'll use a dataset from Kaggle to analyse an A/B test result.\n",
    "https://www.kaggle.com/datasets/zhangluyuan/ab-testing?select=ab_data.csv\n",
    "\n",
    "This A/B test is designed to determine whether the company should change the 'Start Now' button from orange to pink on the homepage.\n",
    "The current webpage has a conversion rate of 13%. If the new webpage can bring 2% rise in conversion rate,the company will launch the new webpage.\n",
    "\n",
    "## An A/B test can be summarized into the 5 steps below:\n",
    "1.Choose and characterize metrics to evaluate the experiment.\n",
    "\n",
    "2.Choose significant level, statistical power, and practical signicicant level that you really want to launch the change if the test is statistically significant.\n",
    "\n",
    "3.Calculated required sample size.\n",
    "\n",
    "4.Take sample for control/treatment groups and run the test.\n",
    "\n",
    "5.Analyze the results and draw conclusions.\n",
    "\n",
    "The focus of this notebook is on Step 5.\n",
    "\n"
   ]
  },
  {
   "cell_type": "markdown",
   "id": "1d36ee67",
   "metadata": {},
   "source": [
    "# Load Dataset"
   ]
  },
  {
   "cell_type": "code",
   "execution_count": 1,
   "id": "825e36ca",
   "metadata": {},
   "outputs": [],
   "source": [
    "import numpy as np\n",
    "import pandas as pd\n",
    "import scipy.stats as stats\n",
    "import math"
   ]
  },
  {
   "cell_type": "code",
   "execution_count": 2,
   "id": "f4aecb3d",
   "metadata": {},
   "outputs": [
    {
     "data": {
      "text/html": [
       "<div>\n",
       "<style scoped>\n",
       "    .dataframe tbody tr th:only-of-type {\n",
       "        vertical-align: middle;\n",
       "    }\n",
       "\n",
       "    .dataframe tbody tr th {\n",
       "        vertical-align: top;\n",
       "    }\n",
       "\n",
       "    .dataframe thead th {\n",
       "        text-align: right;\n",
       "    }\n",
       "</style>\n",
       "<table border=\"1\" class=\"dataframe\">\n",
       "  <thead>\n",
       "    <tr style=\"text-align: right;\">\n",
       "      <th></th>\n",
       "      <th>user_id</th>\n",
       "      <th>timestamp</th>\n",
       "      <th>group</th>\n",
       "      <th>landing_page</th>\n",
       "      <th>converted</th>\n",
       "    </tr>\n",
       "  </thead>\n",
       "  <tbody>\n",
       "    <tr>\n",
       "      <th>0</th>\n",
       "      <td>851104</td>\n",
       "      <td>2017-01-21 22:11:48.556739</td>\n",
       "      <td>control</td>\n",
       "      <td>old_page</td>\n",
       "      <td>0</td>\n",
       "    </tr>\n",
       "    <tr>\n",
       "      <th>1</th>\n",
       "      <td>804228</td>\n",
       "      <td>2017-01-12 08:01:45.159739</td>\n",
       "      <td>control</td>\n",
       "      <td>old_page</td>\n",
       "      <td>0</td>\n",
       "    </tr>\n",
       "    <tr>\n",
       "      <th>2</th>\n",
       "      <td>661590</td>\n",
       "      <td>2017-01-11 16:55:06.154213</td>\n",
       "      <td>treatment</td>\n",
       "      <td>new_page</td>\n",
       "      <td>0</td>\n",
       "    </tr>\n",
       "    <tr>\n",
       "      <th>3</th>\n",
       "      <td>853541</td>\n",
       "      <td>2017-01-08 18:28:03.143765</td>\n",
       "      <td>treatment</td>\n",
       "      <td>new_page</td>\n",
       "      <td>0</td>\n",
       "    </tr>\n",
       "    <tr>\n",
       "      <th>4</th>\n",
       "      <td>864975</td>\n",
       "      <td>2017-01-21 01:52:26.210827</td>\n",
       "      <td>control</td>\n",
       "      <td>old_page</td>\n",
       "      <td>1</td>\n",
       "    </tr>\n",
       "  </tbody>\n",
       "</table>\n",
       "</div>"
      ],
      "text/plain": [
       "   user_id                   timestamp      group landing_page  converted\n",
       "0   851104  2017-01-21 22:11:48.556739    control     old_page          0\n",
       "1   804228  2017-01-12 08:01:45.159739    control     old_page          0\n",
       "2   661590  2017-01-11 16:55:06.154213  treatment     new_page          0\n",
       "3   853541  2017-01-08 18:28:03.143765  treatment     new_page          0\n",
       "4   864975  2017-01-21 01:52:26.210827    control     old_page          1"
      ]
     },
     "execution_count": 2,
     "metadata": {},
     "output_type": "execute_result"
    }
   ],
   "source": [
    "df=pd.read_csv('ab_data.csv')\n",
    "df.head()"
   ]
  },
  {
   "cell_type": "markdown",
   "id": "224449a3",
   "metadata": {},
   "source": [
    "Step 1: Choose metrics\n",
    "\n",
    "Control group: they'll be shown the old webpage with orange 'Start Now' button.\n",
    "\n",
    "Treatment group: they'll be shown the new webpage with pink 'Start Now' button.\n",
    " \n",
    "From the dataset, we can see a column named 'converted'. It has only 2 variables, 0 means not converted, and 1 means converted.\n",
    "Thus, in this experiment, we will be calculating the conversion rate of control and treatment group based on the design.\n",
    "\n",
    "We'll choose this test to be a two-sided test.\n",
    "\n",
    "Null hypothesis: there is no difference between control group and treatment group in terms of converstion rate.\n",
    "Alternative hypothesis:there is difference between control group and treatment group in terms of converstion rate."
   ]
  },
  {
   "cell_type": "markdown",
   "id": "10a7b56c",
   "metadata": {},
   "source": [
    "Step 2: Choose significant level, statistical power, and practical signicicant level\n",
    "\n",
    "The threshhold we set for the significant level is 95%. Statistical power is 0.8.\n",
    "Practical signicicant level is 2% as we mentioned in the beginning."
   ]
  },
  {
   "cell_type": "markdown",
   "id": "86fc22ad",
   "metadata": {},
   "source": [
    "Step 3: Calculated required sample size\n",
    "\n",
    "Since we decided the significant leve, statisfical power, practical signiciant leve, we can easily get the sample size from the below website.\n",
    "\n",
    "https://www.evanmiller.org/ab-testing/sample-size.html\n",
    "    \n",
    "The result is 4523 per each group."
   ]
  },
  {
   "cell_type": "markdown",
   "id": "3d48b180",
   "metadata": {},
   "source": [
    "Step 4: Take sample for control/treatment groups and run the test\n",
    "\n",
    "In reality, we need to consider the duration,exposure,and effect of the test, and then run the test.\n",
    "\n",
    "We need to consider questions like what's the best time to run it. We will also discuss questions like what fraction of traffic we want to expose the experiment to?\n"
   ]
  },
  {
   "cell_type": "markdown",
   "id": "b8305ed3",
   "metadata": {},
   "source": [
    "Step 5: Analyze the results and draw conclusions\n",
    "\n",
    "Prepare the data for analysis\n"
   ]
  },
  {
   "cell_type": "code",
   "execution_count": 3,
   "id": "20336454",
   "metadata": {},
   "outputs": [
    {
     "name": "stdout",
     "output_type": "stream",
     "text": [
      "<class 'pandas.core.frame.DataFrame'>\n",
      "RangeIndex: 294478 entries, 0 to 294477\n",
      "Data columns (total 5 columns):\n",
      " #   Column        Non-Null Count   Dtype \n",
      "---  ------        --------------   ----- \n",
      " 0   user_id       294478 non-null  int64 \n",
      " 1   timestamp     294478 non-null  object\n",
      " 2   group         294478 non-null  object\n",
      " 3   landing_page  294478 non-null  object\n",
      " 4   converted     294478 non-null  int64 \n",
      "dtypes: int64(2), object(3)\n",
      "memory usage: 11.2+ MB\n"
     ]
    }
   ],
   "source": [
    "df.info()"
   ]
  },
  {
   "cell_type": "code",
   "execution_count": 4,
   "id": "a1027dd2",
   "metadata": {},
   "outputs": [
    {
     "data": {
      "text/plain": [
       "user_id         0\n",
       "timestamp       0\n",
       "group           0\n",
       "landing_page    0\n",
       "converted       0\n",
       "dtype: int64"
      ]
     },
     "execution_count": 4,
     "metadata": {},
     "output_type": "execute_result"
    }
   ],
   "source": [
    "df.isnull().sum()"
   ]
  },
  {
   "cell_type": "markdown",
   "id": "6ae43805",
   "metadata": {},
   "source": [
    "There are 294478 rows in the DataFrame, 5 columns and no null value. Next, we will check if any user is assigned to control and treatment group.  "
   ]
  },
  {
   "cell_type": "code",
   "execution_count": 5,
   "id": "7e6d8a27",
   "metadata": {},
   "outputs": [],
   "source": [
    "session_counts=df['user_id'].value_counts()\n",
    "multi_users=session_counts[session_counts>1].count()"
   ]
  },
  {
   "cell_type": "code",
   "execution_count": 6,
   "id": "d9047666",
   "metadata": {},
   "outputs": [
    {
     "name": "stdout",
     "output_type": "stream",
     "text": [
      "There are 3894 users that were assinged multiple times in the dataset.\n"
     ]
    }
   ],
   "source": [
    "print(f'There are {multi_users} users that were assinged multiple times in the dataset.')"
   ]
  },
  {
   "cell_type": "markdown",
   "id": "aecafbed",
   "metadata": {},
   "source": [
    "We will drop the above 3894 rows from the dataset."
   ]
  },
  {
   "cell_type": "code",
   "execution_count": 7,
   "id": "9e09aef1",
   "metadata": {},
   "outputs": [],
   "source": [
    "users_to_drop=session_counts[session_counts>1].index"
   ]
  },
  {
   "cell_type": "code",
   "execution_count": 8,
   "id": "b203e943",
   "metadata": {},
   "outputs": [
    {
     "data": {
      "text/plain": [
       "Int64Index([805339, 754884, 722274, 783176, 898232, 899018, 904570, 842042,\n",
       "            881123, 858720,\n",
       "            ...\n",
       "            721188, 902463, 713355, 827417, 655283, 847058, 889392, 664150,\n",
       "            835401, 736955],\n",
       "           dtype='int64', length=3894)"
      ]
     },
     "execution_count": 8,
     "metadata": {},
     "output_type": "execute_result"
    }
   ],
   "source": [
    "users_to_drop"
   ]
  },
  {
   "cell_type": "code",
   "execution_count": 9,
   "id": "8bf7f7ea",
   "metadata": {},
   "outputs": [],
   "source": [
    "df=df[-df['user_id'].isin(users_to_drop)]"
   ]
  },
  {
   "cell_type": "code",
   "execution_count": 10,
   "id": "cee3f007",
   "metadata": {},
   "outputs": [
    {
     "data": {
      "text/plain": [
       "(286690, 5)"
      ]
     },
     "execution_count": 10,
     "metadata": {},
     "output_type": "execute_result"
    }
   ],
   "source": [
    "rows=df.shape\n",
    "rows"
   ]
  },
  {
   "cell_type": "markdown",
   "id": "9644edfe",
   "metadata": {},
   "source": [
    "The updataed dataset has 286690 entries."
   ]
  },
  {
   "cell_type": "markdown",
   "id": "10543152",
   "metadata": {},
   "source": [
    "Sampling"
   ]
  },
  {
   "cell_type": "markdown",
   "id": "7369566d",
   "metadata": {},
   "source": [
    "Now the DataFrame is ready, we can proceed and sample n=4523 entries for each group."
   ]
  },
  {
   "cell_type": "code",
   "execution_count": 11,
   "id": "8b685b57",
   "metadata": {},
   "outputs": [],
   "source": [
    "control_sample=df[df['group']=='control'].sample(n=4523,random_state=22)\n",
    "treatment_sample=df[df['group']=='treatment'].sample(n=4523,random_state=22)"
   ]
  },
  {
   "cell_type": "code",
   "execution_count": 12,
   "id": "816fa21c",
   "metadata": {},
   "outputs": [],
   "source": [
    "ab_test=pd.concat([control_sample,treatment_sample],axis=0)\n",
    "ab_test.reset_index(drop=True,inplace=True)"
   ]
  },
  {
   "cell_type": "code",
   "execution_count": 13,
   "id": "355d0726",
   "metadata": {},
   "outputs": [
    {
     "data": {
      "text/html": [
       "<div>\n",
       "<style scoped>\n",
       "    .dataframe tbody tr th:only-of-type {\n",
       "        vertical-align: middle;\n",
       "    }\n",
       "\n",
       "    .dataframe tbody tr th {\n",
       "        vertical-align: top;\n",
       "    }\n",
       "\n",
       "    .dataframe thead th {\n",
       "        text-align: right;\n",
       "    }\n",
       "</style>\n",
       "<table border=\"1\" class=\"dataframe\">\n",
       "  <thead>\n",
       "    <tr style=\"text-align: right;\">\n",
       "      <th></th>\n",
       "      <th>user_id</th>\n",
       "      <th>timestamp</th>\n",
       "      <th>group</th>\n",
       "      <th>landing_page</th>\n",
       "      <th>converted</th>\n",
       "    </tr>\n",
       "  </thead>\n",
       "  <tbody>\n",
       "    <tr>\n",
       "      <th>0</th>\n",
       "      <td>763854</td>\n",
       "      <td>2017-01-21 03:43:17.188315</td>\n",
       "      <td>control</td>\n",
       "      <td>old_page</td>\n",
       "      <td>0</td>\n",
       "    </tr>\n",
       "    <tr>\n",
       "      <th>1</th>\n",
       "      <td>690555</td>\n",
       "      <td>2017-01-18 06:38:13.079449</td>\n",
       "      <td>control</td>\n",
       "      <td>old_page</td>\n",
       "      <td>0</td>\n",
       "    </tr>\n",
       "    <tr>\n",
       "      <th>2</th>\n",
       "      <td>861520</td>\n",
       "      <td>2017-01-06 21:13:40.044766</td>\n",
       "      <td>control</td>\n",
       "      <td>old_page</td>\n",
       "      <td>0</td>\n",
       "    </tr>\n",
       "    <tr>\n",
       "      <th>3</th>\n",
       "      <td>630778</td>\n",
       "      <td>2017-01-05 16:42:36.995204</td>\n",
       "      <td>control</td>\n",
       "      <td>old_page</td>\n",
       "      <td>0</td>\n",
       "    </tr>\n",
       "    <tr>\n",
       "      <th>4</th>\n",
       "      <td>656634</td>\n",
       "      <td>2017-01-04 15:31:21.676130</td>\n",
       "      <td>control</td>\n",
       "      <td>old_page</td>\n",
       "      <td>0</td>\n",
       "    </tr>\n",
       "    <tr>\n",
       "      <th>...</th>\n",
       "      <td>...</td>\n",
       "      <td>...</td>\n",
       "      <td>...</td>\n",
       "      <td>...</td>\n",
       "      <td>...</td>\n",
       "    </tr>\n",
       "    <tr>\n",
       "      <th>9041</th>\n",
       "      <td>915193</td>\n",
       "      <td>2017-01-19 17:04:52.129403</td>\n",
       "      <td>treatment</td>\n",
       "      <td>new_page</td>\n",
       "      <td>0</td>\n",
       "    </tr>\n",
       "    <tr>\n",
       "      <th>9042</th>\n",
       "      <td>774128</td>\n",
       "      <td>2017-01-20 00:38:59.462960</td>\n",
       "      <td>treatment</td>\n",
       "      <td>new_page</td>\n",
       "      <td>0</td>\n",
       "    </tr>\n",
       "    <tr>\n",
       "      <th>9043</th>\n",
       "      <td>814889</td>\n",
       "      <td>2017-01-03 23:54:27.136421</td>\n",
       "      <td>treatment</td>\n",
       "      <td>new_page</td>\n",
       "      <td>0</td>\n",
       "    </tr>\n",
       "    <tr>\n",
       "      <th>9044</th>\n",
       "      <td>742368</td>\n",
       "      <td>2017-01-23 02:17:23.490758</td>\n",
       "      <td>treatment</td>\n",
       "      <td>new_page</td>\n",
       "      <td>0</td>\n",
       "    </tr>\n",
       "    <tr>\n",
       "      <th>9045</th>\n",
       "      <td>692779</td>\n",
       "      <td>2017-01-16 09:50:51.529384</td>\n",
       "      <td>treatment</td>\n",
       "      <td>new_page</td>\n",
       "      <td>0</td>\n",
       "    </tr>\n",
       "  </tbody>\n",
       "</table>\n",
       "<p>9046 rows × 5 columns</p>\n",
       "</div>"
      ],
      "text/plain": [
       "      user_id                   timestamp      group landing_page  converted\n",
       "0      763854  2017-01-21 03:43:17.188315    control     old_page          0\n",
       "1      690555  2017-01-18 06:38:13.079449    control     old_page          0\n",
       "2      861520  2017-01-06 21:13:40.044766    control     old_page          0\n",
       "3      630778  2017-01-05 16:42:36.995204    control     old_page          0\n",
       "4      656634  2017-01-04 15:31:21.676130    control     old_page          0\n",
       "...       ...                         ...        ...          ...        ...\n",
       "9041   915193  2017-01-19 17:04:52.129403  treatment     new_page          0\n",
       "9042   774128  2017-01-20 00:38:59.462960  treatment     new_page          0\n",
       "9043   814889  2017-01-03 23:54:27.136421  treatment     new_page          0\n",
       "9044   742368  2017-01-23 02:17:23.490758  treatment     new_page          0\n",
       "9045   692779  2017-01-16 09:50:51.529384  treatment     new_page          0\n",
       "\n",
       "[9046 rows x 5 columns]"
      ]
     },
     "execution_count": 13,
     "metadata": {},
     "output_type": "execute_result"
    }
   ],
   "source": [
    "ab_test"
   ]
  },
  {
   "cell_type": "code",
   "execution_count": 14,
   "id": "c1f56833",
   "metadata": {},
   "outputs": [
    {
     "name": "stdout",
     "output_type": "stream",
     "text": [
      "<class 'pandas.core.frame.DataFrame'>\n",
      "RangeIndex: 9046 entries, 0 to 9045\n",
      "Data columns (total 5 columns):\n",
      " #   Column        Non-Null Count  Dtype \n",
      "---  ------        --------------  ----- \n",
      " 0   user_id       9046 non-null   int64 \n",
      " 1   timestamp     9046 non-null   object\n",
      " 2   group         9046 non-null   object\n",
      " 3   landing_page  9046 non-null   object\n",
      " 4   converted     9046 non-null   int64 \n",
      "dtypes: int64(2), object(3)\n",
      "memory usage: 353.5+ KB\n"
     ]
    }
   ],
   "source": [
    "ab_test.info()"
   ]
  },
  {
   "cell_type": "code",
   "execution_count": 15,
   "id": "6bcca1a7",
   "metadata": {},
   "outputs": [
    {
     "data": {
      "text/plain": [
       "control      4523\n",
       "treatment    4523\n",
       "Name: group, dtype: int64"
      ]
     },
     "execution_count": 15,
     "metadata": {},
     "output_type": "execute_result"
    }
   ],
   "source": [
    "ab_test['group'].value_counts()"
   ]
  },
  {
   "cell_type": "markdown",
   "id": "59f2f1d6",
   "metadata": {},
   "source": [
    "analyse the results"
   ]
  },
  {
   "cell_type": "code",
   "execution_count": 16,
   "id": "5ff83e29",
   "metadata": {},
   "outputs": [],
   "source": [
    "import seaborn as sns"
   ]
  },
  {
   "cell_type": "code",
   "execution_count": 17,
   "id": "66fef9d0",
   "metadata": {},
   "outputs": [
    {
     "data": {
      "image/png": "[encoded data removed]",
      "text/plain": [
       "<Figure size 432x288 with 1 Axes>"
      ]
     },
     "metadata": {
      "needs_background": "light"
     },
     "output_type": "display_data"
    }
   ],
   "source": [
    "ax=sns.countplot(x='converted',hue='group',data=ab_test)\n",
    "for p in ax.patches:\n",
    "   ax.annotate('{:.0f}'.format(p.get_height()), (p.get_x()+0.25, p.get_height()+0.01))"
   ]
  },
  {
   "cell_type": "markdown",
   "id": "1430233d",
   "metadata": {},
   "source": [
    "Conversion rate for control group is 12.4%.(559/4523=0.124)\n",
    "\n",
    "Conversion rate for treatment group is 12.5%.(566/4523=0.125)\n",
    "\n",
    "It seems that new webpage performed a little better, but didn't reach the practical signicicant level, which is 2%, as we expected."
   ]
  },
  {
   "cell_type": "markdown",
   "id": "d2168354",
   "metadata": {},
   "source": [
    "check confidence interval"
   ]
  },
  {
   "cell_type": "code",
   "execution_count": 18,
   "id": "9443a94e",
   "metadata": {},
   "outputs": [],
   "source": [
    "conversion_treatment = 0.125\n",
    "\n",
    "conversion_control = 0.124\n",
    "\n",
    "lower=(conversion_treatment-conversion_control)-1.96 * math.sqrt(conversion_treatment*\n",
    "                                    (1-conversion_treatment)/4523+conversion_control *(1-conversion_control)/4523)\n",
    "upper= (conversion_treatment-conversion_control)+1.96 * math.sqrt(conversion_treatment*\n",
    "                        (1-conversion_treatment)/4523+conversion_control *(1-conversion_control)/4523)"
   ]
  },
  {
   "cell_type": "code",
   "execution_count": 19,
   "id": "7579e932",
   "metadata": {},
   "outputs": [
    {
     "name": "stdout",
     "output_type": "stream",
     "text": [
      "(-0.012607239479825838, 0.01460723947982584)\n"
     ]
    }
   ],
   "source": [
    "print(f'{lower,upper}')"
   ]
  },
  {
   "cell_type": "markdown",
   "id": "e4c6bf1b",
   "metadata": {},
   "source": [
    "The confidence interval includes 0 in the middle, so we can't say the conversion rate of the treament group is different from the control group. This means that we can't reject our Null hypothesis, so we can't lauch our new webpage."
   ]
  }
 ],
 "metadata": {
  "kernelspec": {
   "display_name": "Python 3 (ipykernel)",
   "language": "python",
   "name": "python3"
  },
  "language_info": {
   "codemirror_mode": {
    "name": "ipython",
    "version": 3
   },
   "file_extension": ".py",
   "mimetype": "text/x-python",
   "name": "python",
   "nbconvert_exporter": "python",
   "pygments_lexer": "ipython3",
   "version": "3.9.12"
  }
 },
 "nbformat": 4,
 "nbformat_minor": 5
}
